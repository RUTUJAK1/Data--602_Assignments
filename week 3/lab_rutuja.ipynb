{
 "cells": [
  {
   "cell_type": "markdown",
   "id": "57771d6f",
   "metadata": {},
   "source": [
    "# Week 3 Lab"
   ]
  },
  {
   "cell_type": "markdown",
   "id": "ccb647fd",
   "metadata": {},
   "source": [
    "## Questions:\n",
    "- Differences between supervised and unsupervised learning?  \n",
    "- Differences between classification and regression?  \n",
    "- Classification and regression are the only types of supervised learning? "
   ]
  },
  {
   "cell_type": "markdown",
   "id": "03e12e71",
   "metadata": {},
   "source": [
    "### Differences between supervised and unsupervised learning?"
   ]
  },
  {
   "cell_type": "markdown",
   "id": "25652b78",
   "metadata": {},
   "source": [
    "The method is trained on inputs and known outputs through the use of a labeled dataset during supervised learning. Using this labeled data as a foundation, the algorithm learns to map inputs to outputs and may subsequently be applied to anticipate the behavior of additional, unforeseen inputs.\n",
    "\n",
    "While using an unlabeled dataset, the algorithm for unsupervised learning must independently identify patterns and structural elements in the data. In order to comprehend the underlying structure of the data, this may entail locating groups of related data points or lowering the data's dimensionality.\n",
    "\n",
    "\n",
    "In essence, supervised learning uses labeled data to learn how to predict the outcomes of new inputs, whereas unsupervised learning relies on unlabeled data to find patterns and structure on its own without any prior instruction.\n"
   ]
  },
  {
   "cell_type": "markdown",
   "id": "7c0c96bf",
   "metadata": {},
   "source": [
    "### Differences between classification and regression? "
   ]
  },
  {
   "cell_type": "markdown",
   "id": "c6012182",
   "metadata": {},
   "source": [
    "In machine learning, classification and regression are two different types of supervised learning techniques.\n",
    "Classification predicts a categorical or discrete output variable, while regression predicts a continuous output variable."
   ]
  },
  {
   "cell_type": "markdown",
   "id": "c0aeaf81",
   "metadata": {},
   "source": [
    " ###  Classification and regression are the only types of supervised learning?"
   ]
  },
  {
   "cell_type": "markdown",
   "id": "64abb07d",
   "metadata": {},
   "source": [
    "No, there are more supervised learning methods besides classification and regression. Instance segmentation, object detection, semantic segmentation, time series forecasting, and sequence labeling are a few examples of other supervised learning techniques."
   ]
  },
  {
   "cell_type": "code",
   "execution_count": null,
   "id": "0d655382",
   "metadata": {},
   "outputs": [],
   "source": []
  }
 ],
 "metadata": {
  "kernelspec": {
   "display_name": "Python 3 (ipykernel)",
   "language": "python",
   "name": "python3"
  },
  "language_info": {
   "codemirror_mode": {
    "name": "ipython",
    "version": 3
   },
   "file_extension": ".py",
   "mimetype": "text/x-python",
   "name": "python",
   "nbconvert_exporter": "python",
   "pygments_lexer": "ipython3",
   "version": "3.11.2"
  },
  "toc": {
   "base_numbering": 1,
   "nav_menu": {},
   "number_sections": true,
   "sideBar": true,
   "skip_h1_title": false,
   "title_cell": "Table of Contents",
   "title_sidebar": "Contents",
   "toc_cell": false,
   "toc_position": {},
   "toc_section_display": true,
   "toc_window_display": false
  }
 },
 "nbformat": 4,
 "nbformat_minor": 5
}
